{
 "metadata": {
  "language_info": {
   "codemirror_mode": {
    "name": "ipython",
    "version": 3
   },
   "file_extension": ".py",
   "mimetype": "text/x-python",
   "name": "python",
   "nbconvert_exporter": "python",
   "pygments_lexer": "ipython3",
   "version": "3.8.5-final"
  },
  "orig_nbformat": 2,
  "kernelspec": {
   "name": "python_defaultSpec_1598019173563",
   "display_name": "Python 3.8.5 64-bit ('AG': venv)"
  }
 },
 "nbformat": 4,
 "nbformat_minor": 2,
 "cells": [
  {
   "cell_type": "code",
   "execution_count": 10,
   "metadata": {},
   "outputs": [],
   "source": [
    "import numpy as np\n",
    "import pandas as pd \n",
    "# import keras\n",
    "import matplotlib.pyplot as plt"
   ]
  },
  {
   "cell_type": "code",
   "execution_count": 11,
   "metadata": {
    "tags": []
   },
   "outputs": [
    {
     "output_type": "stream",
     "name": "stdout",
     "text": "699\n"
    }
   ],
   "source": [
    "# Load Dataset - Which gives data of a person with class label whether the customer will leave the bank or not\n",
    "dataset = pd.read_csv('breast-cancer-wisconsin.csv')\n",
    "dataset.replace('?', np.NaN, inplace=True)\n",
    "print(len(dataset))\n",
    "dataset = np.array(dataset)\n",
    "dataset = dataset[:,1:11]\n",
    "# print(dataset)"
   ]
  },
  {
   "cell_type": "code",
   "execution_count": 12,
   "metadata": {},
   "outputs": [],
   "source": [
    "# from sklearn.preprocessing import Imputer\n",
    "from sklearn.impute import SimpleImputer \n",
    "imputer = SimpleImputer(missing_values=np.nan, strategy=\"mean\")\n",
    "imputer = imputer.fit(dataset[:,0:9])\n",
    "dataset[:,0:9] = imputer.transform(dataset[:,0:9])"
   ]
  },
  {
   "cell_type": "code",
   "execution_count": 13,
   "metadata": {
    "tags": []
   },
   "outputs": [],
   "source": [
    "# Differentiate class label y from entire dataset\n",
    "x = dataset[:,0:9]\n",
    "y = dataset[:,9]\n",
    "for i in range (len(y)):\n",
    "    if y[i]==2:\n",
    "        y[i]=0\n",
    "    else:\n",
    "        y[i]=1"
   ]
  },
  {
   "cell_type": "code",
   "execution_count": 14,
   "metadata": {},
   "outputs": [],
   "source": [
    "# Normalizing data / scaling data\n",
    "from sklearn.preprocessing import StandardScaler\n",
    "sc = StandardScaler()\n",
    "x  = sc.fit_transform(x)\n"
   ]
  },
  {
   "cell_type": "code",
   "execution_count": 16,
   "metadata": {
    "tags": []
   },
   "outputs": [
    {
     "output_type": "error",
     "ename": "SyntaxError",
     "evalue": "positional argument follows keyword argument (<ipython-input-16-f285ee423096>, line 13)",
     "traceback": [
      "\u001b[1;36m  File \u001b[1;32m\"<ipython-input-16-f285ee423096>\"\u001b[1;36m, line \u001b[1;32m13\u001b[0m\n\u001b[1;33m    accuracies = cross_val_score(estimator = classifier, x, y, cv = 10, n_jobs = -1)\u001b[0m\n\u001b[1;37m                                                         ^\u001b[0m\n\u001b[1;31mSyntaxError\u001b[0m\u001b[1;31m:\u001b[0m positional argument follows keyword argument\n"
     ]
    }
   ],
   "source": [
    "from keras.wrappers.scikit_learn import KerasClassifier\n",
    "from sklearn.model_selection import cross_val_score\n",
    "from keras.models import Sequential\n",
    "from keras.layers import Dense\n",
    "def build_classifier():\n",
    "    classifier = Sequential()\n",
    "    classifier.add(Dense(units = 6, kernel_initializer = 'uniform', activation = 'relu', input_dim = 11))\n",
    "    classifier.add(Dense(units = 6, kernel_initializer = 'uniform', activation = 'relu'))\n",
    "    classifier.add(Dense(units = 1, kernel_initializer = 'uniform', activation = 'sigmoid'))\n",
    "    classifier.compile(optimizer = 'adam', loss = 'binary_crossentropy', metrics = ['accuracy'])\n",
    "    return classifier\n",
    "classifier = KerasClassifier(build_fn = build_classifier, batch_size = 10, epochs = 100)\n",
    "accuracies = cross_val_score(estimator = classifier, X = x, y = y, cv = 10, n_jobs = -1)\n",
    "print(accuracies)\n",
    "mean = accuracies.mean()\n",
    "variance = accuracies.std()\n",
    "print(mean)\n",
    "print(variance)"
   ]
  },
  {
   "cell_type": "code",
   "execution_count": 7,
   "metadata": {},
   "outputs": [],
   "source": [
    "# import keras\n",
    "# from keras.models import Sequential\n",
    "# from keras.layers import Dense\n",
    "# # building classifier blueprint.\n",
    "# classifier = Sequential()\n",
    "# # Input and First Hidden layer\n",
    "# classifier.add(Dense(units = 6, activation = 'relu'))\n",
    "# # Second Hidden layer\n",
    "# classifier.add(Dense(units = 6, activation = 'relu'))\n",
    "# # Outputlayer\n",
    "# classifier.add(Dense(units = 1, activation = 'sigmoid'))\n",
    "# # Compiling ANN\n",
    "# classifier.compile(optimizer = 'adam', loss = 'binary_crossentropy', metrics = ['accuracy'])\n",
    "# # Training ANN\n",
    "# classifier.fit(x_train, y_train, batch_size = 32, epochs = 100)\n",
    "# # testing using test data\n",
    "# y_pred = classifier.predict(x_test)\n",
    "# # Setting a threshold of 0.5\n",
    "# y_pred = (y_pred>0.5)\n",
    "# # Final Comparison\n",
    "# final_comparison = np.concatenate((y_pred.reshape(len(y_pred),1), y_test.reshape(len(y_test),1)),1)\n",
    "# print(final_comparison)"
   ]
  },
  {
   "cell_type": "code",
   "execution_count": 8,
   "metadata": {
    "tags": []
   },
   "outputs": [],
   "source": [
    "# building Confusion Matrix\n",
    "# from sklearn.metrics import confusion_matrix, accuracy_score\n",
    "# conf_mtx = confusion_matrix(y_test, y_pred)\n",
    "# print(conf_mtx)\n",
    "# print(accuracy_score(y_test, y_pred))"
   ]
  },
  {
   "cell_type": "code",
   "execution_count": 9,
   "metadata": {
    "tags": []
   },
   "outputs": [],
   "source": [
    "# Testing using a user provided new pattern\n",
    "# print(classifier.predict(sc.transform([[1, 0, 0, 600, 1, 40, 3, 60000, 2, 1, 1, 50000]])))"
   ]
  }
 ]
}